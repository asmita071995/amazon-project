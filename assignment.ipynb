{
  "nbformat": 4,
  "nbformat_minor": 0,
  "metadata": {
    "colab": {
      "provenance": []
    },
    "kernelspec": {
      "name": "python3",
      "display_name": "Python 3"
    },
    "language_info": {
      "name": "python"
    }
  },
  "cells": [
    {
      "cell_type": "code",
      "execution_count": 12,
      "metadata": {
        "id": "756M7_V-n-nd"
      },
      "outputs": [],
      "source": [
        "import requests\n",
        "from bs4 import BeautifulSoup \n",
        "import pandas as pd"
      ]
    },
    {
      "cell_type": "code",
      "source": [
        "url = \"https://www.amazon.in/s?k=bags&crid=2M096C61O4MLT&qid=1653308124&sprefix=ba%2Caps%2C283&ref=sr_pg_1\"\n",
        "response = requests.get(url)\n",
        "base_url = 'https://www.amazon.in'\n",
        "\n",
        "# Create a BeautifulSoup object to parse the HTML content\n",
        "soup = BeautifulSoup(response.content, \"html.parser\")"
      ],
      "metadata": {
        "id": "Xp6gsBDIoGPN"
      },
      "execution_count": 4,
      "outputs": []
    },
    {
      "cell_type": "code",
      "source": [
        "soup"
      ],
      "metadata": {
        "id": "Y7ZUk5unpSSY"
      },
      "execution_count": null,
      "outputs": []
    },
    {
      "cell_type": "code",
      "source": [
        "table =soup.find('div', attrs={'class': 's-main-slot s-result-list s-search-results sg-row'})\n"
      ],
      "metadata": {
        "id": "UEc5AFCfo4Zb"
      },
      "execution_count": 6,
      "outputs": []
    },
    {
      "cell_type": "code",
      "source": [
        "#correct\n",
        "table2 = table.find_all('div', 'class'=='sg-col sg-col-4-of-12 sg-col-8-of-16 sg-col-12-of-20 sg-col-12-of-24 s-list-col-right')"
      ],
      "metadata": {
        "id": "qCdml-FtqKDs"
      },
      "execution_count": 7,
      "outputs": []
    },
    {
      "cell_type": "code",
      "source": [
        "product_name = []\n",
        "product_price = []\n",
        "product_rating = []\n",
        "product_link = []\n",
        "for i in range(len(table2)):\n",
        "  container =table2[i].find('div', attrs={'class': 'a-section a-spacing-small a-spacing-top-small'})\n",
        "  if container:\n",
        "    names = container.find('span', attrs={'class': 'a-size-medium a-color-base a-text-normal'})\n",
        "    if names:\n",
        "      name = names.get_text()\n",
        "      print(name)\n",
        "      links = container.find(\"a\", class_=\"a-link-normal s-underline-text s-underline-link-text s-link-style a-text-normal\")\n",
        "      # if links:\n",
        "      link = links.get('href')\n",
        "      # names = container.find('span', attrs={'class': 'a-size-medium a-color-base a-text-normal'})\n",
        "      # if names:\n",
        "      #   name = names.get_text()\n",
        "      pr= container.find('span', attrs={'class': 'a-price-whole'})\n",
        "      price = pr.get_text()\n",
        "      rat= container.find('a', attrs={'class': 'a-popover-trigger a-declarative'})\n",
        "      if rat:\n",
        "        ratings = rat.find('span', attrs={'class': 'a-icon-alt'})\n",
        "        ratings = ratings.get_text()\n",
        "        rating=ratings.split()[0]\n",
        "      else:\n",
        "        rating = 'No ratings provided'\n",
        "    product_name.append(name)\n",
        "    product_price.append(price)\n",
        "    product_rating.append(rating)\n",
        "    product_link.append(link)  "
      ],
      "metadata": {
        "id": "RKH-O6SaDrAU"
      },
      "execution_count": null,
      "outputs": []
    },
    {
      "cell_type": "code",
      "source": [
        "dic= {'product_name':product_name,'product_price':product_price,'product_rating':product_rating,'product_link':product_link}"
      ],
      "metadata": {
        "id": "UMKjFJ8TpdeP"
      },
      "execution_count": 13,
      "outputs": []
    },
    {
      "cell_type": "code",
      "source": [
        "df =pd.DataFrame(dic)\n",
        "df.drop_duplicates().reset_index(drop=True)"
      ],
      "metadata": {
        "colab": {
          "base_uri": "https://localhost:8080/",
          "height": 551
        },
        "id": "nDODNPczoX8U",
        "outputId": "8f0e4112-3650-4150-dd7b-9b521529dcf1"
      },
      "execution_count": 14,
      "outputs": [
        {
          "output_type": "execute_result",
          "data": {
            "text/plain": [
              "                                         product_name product_price  \\\n",
              "0   Wesley Milestone 2.0 Casual Waterproof Laptop ...           598   \n",
              "1   American Tourister 32 Ltrs Black Casual Backpa...         1,199   \n",
              "2           Skybags Brat Black 46 Cms Casual Backpack           630   \n",
              "3   Half Moon Large 37L Laptop Bag Backpack for me...           749   \n",
              "4   FUR JADEN Anti Theft Number Lock Backpack Bag ...           699   \n",
              "5   ADISA 15.6 inch Laptop Backpack Office Bag Col...           499   \n",
              "6   Half Moon 35L Water Resistant 15.6 inch Laptop...           529   \n",
              "7   American Tourister VALEX BLUE LAPTOP BACKPACK ...         1,299   \n",
              "8   FUR JADEN Anti Theft Number Lock Backpack Bag ...           699   \n",
              "9   SAFARI 15 Ltrs Sea Blue Casual/School/College ...           248   \n",
              "10  TRUE HUMAN Emperor Anti-Theft backpack With US...           599   \n",
              "11  Fur Jaden Brown Textured Leatherette Stylish &...           899   \n",
              "12  Safari Seek 45 Ltrs Overnighter Expandable Tra...         1,999   \n",
              "13  Lunar's Bingo - 48 L Laptop Office/School/Trav...           899   \n",
              "14  Wesley Spartan Unisex Travel Hiking Laptop Bag...           698   \n",
              "15  Gear Aspire 30L Water Restant Office Laptop Ba...         1,099   \n",
              "\n",
              "   product_rating                                       product_link  \n",
              "0             4.3  /Wesley-Milestone-Waterproof-Backpack-Business...  \n",
              "1             4.0       /American-Tourister-AMT-SCH-02/dp/B07CJCGM1M  \n",
              "2             4.1  /Skybags-Brat-Black-Casual-Backpack/dp/B08Z1HHHTD  \n",
              "3             3.9  /Half-Moon-Resistant-Backpack-Compartment/dp/B...  \n",
              "4             4.0  /Number-Backpack-Compartment-Charging-Organize...  \n",
              "5             3.9  /ADISA-Laptop-Backpack-Office-College/dp/B09TP...  \n",
              "6             3.9  /Half-Moon-Waterproof-Backpack-Students/dp/B08...  \n",
              "7             4.3  /American-Tourister-BACKPACK-COMPARTMENT-ORGAN...  \n",
              "8             4.0  /Number-Backpack-Compartment-Charging-Organize...  \n",
              "9             4.0  /SAFARI-Ltrs-Casual-Backpack-DAYPACKNEO15CBSEB...  \n",
              "10            3.8  /TRUE-HUMAN-Anti-Theft-backpack-charging/dp/B0...  \n",
              "11            4.3  /FUR-JADEN-Leatherette-Polypropylene-DUFF05/dp...  \n",
              "12            4.5                /Safari-45L-21-OB-BLK/dp/B07BZ5VC4H  \n",
              "13            3.9   /Lunars-Bingo-Laptop-Resistant-48L/dp/B08YZ8FFBZ  \n",
              "14            4.1  /Wesley-Spartan-Hiking-Raincover-Organiser/dp/...  \n",
              "15            4.3  /Gear-Black-Laptop-Backpack-LBPASPIRE0104/dp/B...  "
            ],
            "text/html": [
              "\n",
              "  <div id=\"df-ae263a9f-ab89-4ba4-9ec6-f31201c69822\">\n",
              "    <div class=\"colab-df-container\">\n",
              "      <div>\n",
              "<style scoped>\n",
              "    .dataframe tbody tr th:only-of-type {\n",
              "        vertical-align: middle;\n",
              "    }\n",
              "\n",
              "    .dataframe tbody tr th {\n",
              "        vertical-align: top;\n",
              "    }\n",
              "\n",
              "    .dataframe thead th {\n",
              "        text-align: right;\n",
              "    }\n",
              "</style>\n",
              "<table border=\"1\" class=\"dataframe\">\n",
              "  <thead>\n",
              "    <tr style=\"text-align: right;\">\n",
              "      <th></th>\n",
              "      <th>product_name</th>\n",
              "      <th>product_price</th>\n",
              "      <th>product_rating</th>\n",
              "      <th>product_link</th>\n",
              "    </tr>\n",
              "  </thead>\n",
              "  <tbody>\n",
              "    <tr>\n",
              "      <th>0</th>\n",
              "      <td>Wesley Milestone 2.0 Casual Waterproof Laptop ...</td>\n",
              "      <td>598</td>\n",
              "      <td>4.3</td>\n",
              "      <td>/Wesley-Milestone-Waterproof-Backpack-Business...</td>\n",
              "    </tr>\n",
              "    <tr>\n",
              "      <th>1</th>\n",
              "      <td>American Tourister 32 Ltrs Black Casual Backpa...</td>\n",
              "      <td>1,199</td>\n",
              "      <td>4.0</td>\n",
              "      <td>/American-Tourister-AMT-SCH-02/dp/B07CJCGM1M</td>\n",
              "    </tr>\n",
              "    <tr>\n",
              "      <th>2</th>\n",
              "      <td>Skybags Brat Black 46 Cms Casual Backpack</td>\n",
              "      <td>630</td>\n",
              "      <td>4.1</td>\n",
              "      <td>/Skybags-Brat-Black-Casual-Backpack/dp/B08Z1HHHTD</td>\n",
              "    </tr>\n",
              "    <tr>\n",
              "      <th>3</th>\n",
              "      <td>Half Moon Large 37L Laptop Bag Backpack for me...</td>\n",
              "      <td>749</td>\n",
              "      <td>3.9</td>\n",
              "      <td>/Half-Moon-Resistant-Backpack-Compartment/dp/B...</td>\n",
              "    </tr>\n",
              "    <tr>\n",
              "      <th>4</th>\n",
              "      <td>FUR JADEN Anti Theft Number Lock Backpack Bag ...</td>\n",
              "      <td>699</td>\n",
              "      <td>4.0</td>\n",
              "      <td>/Number-Backpack-Compartment-Charging-Organize...</td>\n",
              "    </tr>\n",
              "    <tr>\n",
              "      <th>5</th>\n",
              "      <td>ADISA 15.6 inch Laptop Backpack Office Bag Col...</td>\n",
              "      <td>499</td>\n",
              "      <td>3.9</td>\n",
              "      <td>/ADISA-Laptop-Backpack-Office-College/dp/B09TP...</td>\n",
              "    </tr>\n",
              "    <tr>\n",
              "      <th>6</th>\n",
              "      <td>Half Moon 35L Water Resistant 15.6 inch Laptop...</td>\n",
              "      <td>529</td>\n",
              "      <td>3.9</td>\n",
              "      <td>/Half-Moon-Waterproof-Backpack-Students/dp/B08...</td>\n",
              "    </tr>\n",
              "    <tr>\n",
              "      <th>7</th>\n",
              "      <td>American Tourister VALEX BLUE LAPTOP BACKPACK ...</td>\n",
              "      <td>1,299</td>\n",
              "      <td>4.3</td>\n",
              "      <td>/American-Tourister-BACKPACK-COMPARTMENT-ORGAN...</td>\n",
              "    </tr>\n",
              "    <tr>\n",
              "      <th>8</th>\n",
              "      <td>FUR JADEN Anti Theft Number Lock Backpack Bag ...</td>\n",
              "      <td>699</td>\n",
              "      <td>4.0</td>\n",
              "      <td>/Number-Backpack-Compartment-Charging-Organize...</td>\n",
              "    </tr>\n",
              "    <tr>\n",
              "      <th>9</th>\n",
              "      <td>SAFARI 15 Ltrs Sea Blue Casual/School/College ...</td>\n",
              "      <td>248</td>\n",
              "      <td>4.0</td>\n",
              "      <td>/SAFARI-Ltrs-Casual-Backpack-DAYPACKNEO15CBSEB...</td>\n",
              "    </tr>\n",
              "    <tr>\n",
              "      <th>10</th>\n",
              "      <td>TRUE HUMAN Emperor Anti-Theft backpack With US...</td>\n",
              "      <td>599</td>\n",
              "      <td>3.8</td>\n",
              "      <td>/TRUE-HUMAN-Anti-Theft-backpack-charging/dp/B0...</td>\n",
              "    </tr>\n",
              "    <tr>\n",
              "      <th>11</th>\n",
              "      <td>Fur Jaden Brown Textured Leatherette Stylish &amp;...</td>\n",
              "      <td>899</td>\n",
              "      <td>4.3</td>\n",
              "      <td>/FUR-JADEN-Leatherette-Polypropylene-DUFF05/dp...</td>\n",
              "    </tr>\n",
              "    <tr>\n",
              "      <th>12</th>\n",
              "      <td>Safari Seek 45 Ltrs Overnighter Expandable Tra...</td>\n",
              "      <td>1,999</td>\n",
              "      <td>4.5</td>\n",
              "      <td>/Safari-45L-21-OB-BLK/dp/B07BZ5VC4H</td>\n",
              "    </tr>\n",
              "    <tr>\n",
              "      <th>13</th>\n",
              "      <td>Lunar's Bingo - 48 L Laptop Office/School/Trav...</td>\n",
              "      <td>899</td>\n",
              "      <td>3.9</td>\n",
              "      <td>/Lunars-Bingo-Laptop-Resistant-48L/dp/B08YZ8FFBZ</td>\n",
              "    </tr>\n",
              "    <tr>\n",
              "      <th>14</th>\n",
              "      <td>Wesley Spartan Unisex Travel Hiking Laptop Bag...</td>\n",
              "      <td>698</td>\n",
              "      <td>4.1</td>\n",
              "      <td>/Wesley-Spartan-Hiking-Raincover-Organiser/dp/...</td>\n",
              "    </tr>\n",
              "    <tr>\n",
              "      <th>15</th>\n",
              "      <td>Gear Aspire 30L Water Restant Office Laptop Ba...</td>\n",
              "      <td>1,099</td>\n",
              "      <td>4.3</td>\n",
              "      <td>/Gear-Black-Laptop-Backpack-LBPASPIRE0104/dp/B...</td>\n",
              "    </tr>\n",
              "  </tbody>\n",
              "</table>\n",
              "</div>\n",
              "      <button class=\"colab-df-convert\" onclick=\"convertToInteractive('df-ae263a9f-ab89-4ba4-9ec6-f31201c69822')\"\n",
              "              title=\"Convert this dataframe to an interactive table.\"\n",
              "              style=\"display:none;\">\n",
              "        \n",
              "  <svg xmlns=\"http://www.w3.org/2000/svg\" height=\"24px\"viewBox=\"0 0 24 24\"\n",
              "       width=\"24px\">\n",
              "    <path d=\"M0 0h24v24H0V0z\" fill=\"none\"/>\n",
              "    <path d=\"M18.56 5.44l.94 2.06.94-2.06 2.06-.94-2.06-.94-.94-2.06-.94 2.06-2.06.94zm-11 1L8.5 8.5l.94-2.06 2.06-.94-2.06-.94L8.5 2.5l-.94 2.06-2.06.94zm10 10l.94 2.06.94-2.06 2.06-.94-2.06-.94-.94-2.06-.94 2.06-2.06.94z\"/><path d=\"M17.41 7.96l-1.37-1.37c-.4-.4-.92-.59-1.43-.59-.52 0-1.04.2-1.43.59L10.3 9.45l-7.72 7.72c-.78.78-.78 2.05 0 2.83L4 21.41c.39.39.9.59 1.41.59.51 0 1.02-.2 1.41-.59l7.78-7.78 2.81-2.81c.8-.78.8-2.07 0-2.86zM5.41 20L4 18.59l7.72-7.72 1.47 1.35L5.41 20z\"/>\n",
              "  </svg>\n",
              "      </button>\n",
              "      \n",
              "  <style>\n",
              "    .colab-df-container {\n",
              "      display:flex;\n",
              "      flex-wrap:wrap;\n",
              "      gap: 12px;\n",
              "    }\n",
              "\n",
              "    .colab-df-convert {\n",
              "      background-color: #E8F0FE;\n",
              "      border: none;\n",
              "      border-radius: 50%;\n",
              "      cursor: pointer;\n",
              "      display: none;\n",
              "      fill: #1967D2;\n",
              "      height: 32px;\n",
              "      padding: 0 0 0 0;\n",
              "      width: 32px;\n",
              "    }\n",
              "\n",
              "    .colab-df-convert:hover {\n",
              "      background-color: #E2EBFA;\n",
              "      box-shadow: 0px 1px 2px rgba(60, 64, 67, 0.3), 0px 1px 3px 1px rgba(60, 64, 67, 0.15);\n",
              "      fill: #174EA6;\n",
              "    }\n",
              "\n",
              "    [theme=dark] .colab-df-convert {\n",
              "      background-color: #3B4455;\n",
              "      fill: #D2E3FC;\n",
              "    }\n",
              "\n",
              "    [theme=dark] .colab-df-convert:hover {\n",
              "      background-color: #434B5C;\n",
              "      box-shadow: 0px 1px 3px 1px rgba(0, 0, 0, 0.15);\n",
              "      filter: drop-shadow(0px 1px 2px rgba(0, 0, 0, 0.3));\n",
              "      fill: #FFFFFF;\n",
              "    }\n",
              "  </style>\n",
              "\n",
              "      <script>\n",
              "        const buttonEl =\n",
              "          document.querySelector('#df-ae263a9f-ab89-4ba4-9ec6-f31201c69822 button.colab-df-convert');\n",
              "        buttonEl.style.display =\n",
              "          google.colab.kernel.accessAllowed ? 'block' : 'none';\n",
              "\n",
              "        async function convertToInteractive(key) {\n",
              "          const element = document.querySelector('#df-ae263a9f-ab89-4ba4-9ec6-f31201c69822');\n",
              "          const dataTable =\n",
              "            await google.colab.kernel.invokeFunction('convertToInteractive',\n",
              "                                                     [key], {});\n",
              "          if (!dataTable) return;\n",
              "\n",
              "          const docLinkHtml = 'Like what you see? Visit the ' +\n",
              "            '<a target=\"_blank\" href=https://colab.research.google.com/notebooks/data_table.ipynb>data table notebook</a>'\n",
              "            + ' to learn more about interactive tables.';\n",
              "          element.innerHTML = '';\n",
              "          dataTable['output_type'] = 'display_data';\n",
              "          await google.colab.output.renderOutput(dataTable, element);\n",
              "          const docLink = document.createElement('div');\n",
              "          docLink.innerHTML = docLinkHtml;\n",
              "          element.appendChild(docLink);\n",
              "        }\n",
              "      </script>\n",
              "    </div>\n",
              "  </div>\n",
              "  "
            ]
          },
          "metadata": {},
          "execution_count": 14
        }
      ]
    },
    {
      "cell_type": "code",
      "source": [
        "# to save the csv file\n",
        "df.to_csv('product_detail.csv')"
      ],
      "metadata": {
        "id": "yah739vYZBST"
      },
      "execution_count": 15,
      "outputs": []
    },
    {
      "cell_type": "code",
      "source": [
        "link_stored = []\n",
        "base_url = 'https://www.amazon.in'\n",
        "for i in range(100):\n",
        "  if not link_stored:\n",
        "    url = \"https://www.amazon.in/s?k=bags&crid=2M096C61O4MLT&qid=1653308124&sprefix=ba%2Caps%2C283&ref=sr_pg_1\"\n",
        "  else:\n",
        "    url = base_url + link_stored[-1]\n",
        "  response = requests.get(url)\n",
        "  soup = BeautifulSoup(response.content, \"html.parser\")\n",
        "  table11 =soup.find('a', attrs={'class': 's-pagination-item s-pagination-next s-pagination-button s-pagination-separator'})\n",
        "  #if table11:\n",
        "  #c = table11.find_all('a', 'class'=='s-pagination-item s-pagination-next s-pagination-button s-pagination-separator')\n",
        "  if table11:\n",
        "    next_page_link=table11.get('href')\n",
        "    link_stored.append(next_page_link)\n",
        "   "
      ],
      "metadata": {
        "id": "i8dM6MEQqvU0"
      },
      "execution_count": 16,
      "outputs": []
    },
    {
      "cell_type": "code",
      "source": [
        "link_stored"
      ],
      "metadata": {
        "id": "AaHV9G6IqvZo",
        "colab": {
          "base_uri": "https://localhost:8080/"
        },
        "outputId": "0eded8cb-0be9-41fa-d4a3-6e1f98fd8cfa"
      },
      "execution_count": 17,
      "outputs": [
        {
          "output_type": "execute_result",
          "data": {
            "text/plain": [
              "['/s?k=bags&page=2',\n",
              " '/s?k=bags&page=3',\n",
              " '/s?k=bags&page=4',\n",
              " '/s?k=bags&page=5',\n",
              " '/s?k=bags&page=6',\n",
              " '/s?k=bags&page=7',\n",
              " '/s?k=bags&page=8',\n",
              " '/s?k=bags&page=9',\n",
              " '/s?k=bags&page=10',\n",
              " '/s?k=bags&page=11',\n",
              " '/s?k=bags&page=12',\n",
              " '/s?k=bags&page=13',\n",
              " '/s?k=bags&page=14',\n",
              " '/s?k=bags&page=15',\n",
              " '/s?k=bags&page=16',\n",
              " '/s?k=bags&page=17',\n",
              " '/s?k=bags&page=18',\n",
              " '/s?k=bags&page=19',\n",
              " '/s?k=bags&page=20']"
            ]
          },
          "metadata": {},
          "execution_count": 17
        }
      ]
    },
    {
      "cell_type": "code",
      "source": [
        "linked = [base_url+x for x in link_stored]"
      ],
      "metadata": {
        "id": "jVrh5K0Utl0E"
      },
      "execution_count": 18,
      "outputs": []
    },
    {
      "cell_type": "code",
      "source": [
        "linked"
      ],
      "metadata": {
        "colab": {
          "base_uri": "https://localhost:8080/"
        },
        "id": "eiQU9wNRtlxX",
        "outputId": "e4afff3c-7031-49a2-8d08-705dbdb9dd8e"
      },
      "execution_count": 19,
      "outputs": [
        {
          "output_type": "execute_result",
          "data": {
            "text/plain": [
              "['https://www.amazon.in/s?k=bags&page=2',\n",
              " 'https://www.amazon.in/s?k=bags&page=3',\n",
              " 'https://www.amazon.in/s?k=bags&page=4',\n",
              " 'https://www.amazon.in/s?k=bags&page=5',\n",
              " 'https://www.amazon.in/s?k=bags&page=6',\n",
              " 'https://www.amazon.in/s?k=bags&page=7',\n",
              " 'https://www.amazon.in/s?k=bags&page=8',\n",
              " 'https://www.amazon.in/s?k=bags&page=9',\n",
              " 'https://www.amazon.in/s?k=bags&page=10',\n",
              " 'https://www.amazon.in/s?k=bags&page=11',\n",
              " 'https://www.amazon.in/s?k=bags&page=12',\n",
              " 'https://www.amazon.in/s?k=bags&page=13',\n",
              " 'https://www.amazon.in/s?k=bags&page=14',\n",
              " 'https://www.amazon.in/s?k=bags&page=15',\n",
              " 'https://www.amazon.in/s?k=bags&page=16',\n",
              " 'https://www.amazon.in/s?k=bags&page=17',\n",
              " 'https://www.amazon.in/s?k=bags&page=18',\n",
              " 'https://www.amazon.in/s?k=bags&page=19',\n",
              " 'https://www.amazon.in/s?k=bags&page=20']"
            ]
          },
          "metadata": {},
          "execution_count": 19
        }
      ]
    },
    {
      "cell_type": "code",
      "source": [],
      "metadata": {
        "id": "Coa4siA7tlug"
      },
      "execution_count": null,
      "outputs": []
    },
    {
      "cell_type": "code",
      "source": [
        "product_name1 = []\n",
        "product_price1 = []\n",
        "product_rating1 = []\n",
        "product_link1 = []\n",
        "for link in linked:\n",
        "  if not product_name1:\n",
        "    url = \"https://www.amazon.in/s?k=bags&crid=2M096C61O4MLT&qid=1653308124&sprefix=ba%2Caps%2C283&ref=sr_pg_1\"\n",
        "  else:\n",
        "    url = link\n",
        "  print(url)\n",
        "  response = requests.get(url)\n",
        "  base_url = 'https://www.amazon.in'\n",
        "  # Create a BeautifulSoup object to parse the HTML content\n",
        "  soup = BeautifulSoup(response.content, \"html.parser\")\n",
        "  \n",
        "  table =soup.find('div', attrs={'class': 's-main-slot s-result-list s-search-results sg-row'})\n",
        "  table2 = table.find_all('div', 'class'=='sg-col sg-col-4-of-12 sg-col-8-of-16 sg-col-12-of-20 sg-col-12-of-24 s-list-col-right')\n",
        "  product_name = []\n",
        "  product_price = []\n",
        "  product_rating = []\n",
        "  product_link = []\n",
        "  for i in range(len(table2)):\n",
        "    container =table2[i].find('div', attrs={'class': 'a-section a-spacing-small a-spacing-top-small'})\n",
        "    if container:\n",
        "      names = container.find('span', attrs={'class': 'a-size-medium a-color-base a-text-normal'})\n",
        "      if names:\n",
        "        name = names.get_text()\n",
        "        links = container.find(\"a\", class_=\"a-link-normal s-underline-text s-underline-link-text s-link-style a-text-normal\")\n",
        "        # if links:\n",
        "        link = links.get('href')\n",
        "        # names = container.find('span', attrs={'class': 'a-size-medium a-color-base a-text-normal'})\n",
        "        # if names:\n",
        "        #   name = names.get_text()\n",
        "        pr= container.find('span', attrs={'class': 'a-price-whole'})\n",
        "        price = pr.get_text()\n",
        "        rat= container.find('a', attrs={'class': 'a-popover-trigger a-declarative'})\n",
        "        if rat:\n",
        "          ratings = rat.find('span', attrs={'class': 'a-icon-alt'})\n",
        "          ratings = ratings.get_text()\n",
        "          rating=ratings.split()[0]\n",
        "        else:\n",
        "          rating = 'No ratings provided'\n",
        "    product_name.append(name)\n",
        "    product_price.append(price)\n",
        "    product_rating.append(rating)\n",
        "    product_link.append(link) \n",
        "  product_name1.append(product_name)\n",
        "  product_price1.append(product_price)\n",
        "  product_rating1.append(product_rating)\n",
        "  product_link1.append(product_link)  "
      ],
      "metadata": {
        "colab": {
          "base_uri": "https://localhost:8080/",
          "height": 252
        },
        "id": "1DX6gpoWtlr5",
        "outputId": "32ed4b64-bb69-4a4c-aa33-e1d4172272a1"
      },
      "execution_count": 20,
      "outputs": [
        {
          "output_type": "stream",
          "name": "stdout",
          "text": [
            "https://www.amazon.in/s?k=bags&crid=2M096C61O4MLT&qid=1653308124&sprefix=ba%2Caps%2C283&ref=sr_pg_1\n"
          ]
        },
        {
          "output_type": "error",
          "ename": "AttributeError",
          "evalue": "ignored",
          "traceback": [
            "\u001b[0;31m---------------------------------------------------------------------------\u001b[0m",
            "\u001b[0;31mAttributeError\u001b[0m                            Traceback (most recent call last)",
            "\u001b[0;32m<ipython-input-20-4563520c72c0>\u001b[0m in \u001b[0;36m<cell line: 5>\u001b[0;34m()\u001b[0m\n\u001b[1;32m     15\u001b[0m \u001b[0;34m\u001b[0m\u001b[0m\n\u001b[1;32m     16\u001b[0m   \u001b[0mtable\u001b[0m \u001b[0;34m=\u001b[0m\u001b[0msoup\u001b[0m\u001b[0;34m.\u001b[0m\u001b[0mfind\u001b[0m\u001b[0;34m(\u001b[0m\u001b[0;34m'div'\u001b[0m\u001b[0;34m,\u001b[0m \u001b[0mattrs\u001b[0m\u001b[0;34m=\u001b[0m\u001b[0;34m{\u001b[0m\u001b[0;34m'class'\u001b[0m\u001b[0;34m:\u001b[0m \u001b[0;34m's-main-slot s-result-list s-search-results sg-row'\u001b[0m\u001b[0;34m}\u001b[0m\u001b[0;34m)\u001b[0m\u001b[0;34m\u001b[0m\u001b[0;34m\u001b[0m\u001b[0m\n\u001b[0;32m---> 17\u001b[0;31m   \u001b[0mtable2\u001b[0m \u001b[0;34m=\u001b[0m \u001b[0mtable\u001b[0m\u001b[0;34m.\u001b[0m\u001b[0mfind_all\u001b[0m\u001b[0;34m(\u001b[0m\u001b[0;34m'div'\u001b[0m\u001b[0;34m,\u001b[0m \u001b[0;34m'class'\u001b[0m\u001b[0;34m==\u001b[0m\u001b[0;34m'sg-col sg-col-4-of-12 sg-col-8-of-16 sg-col-12-of-20 sg-col-12-of-24 s-list-col-right'\u001b[0m\u001b[0;34m)\u001b[0m\u001b[0;34m\u001b[0m\u001b[0;34m\u001b[0m\u001b[0m\n\u001b[0m\u001b[1;32m     18\u001b[0m   \u001b[0mproduct_name\u001b[0m \u001b[0;34m=\u001b[0m \u001b[0;34m[\u001b[0m\u001b[0;34m]\u001b[0m\u001b[0;34m\u001b[0m\u001b[0;34m\u001b[0m\u001b[0m\n\u001b[1;32m     19\u001b[0m   \u001b[0mproduct_price\u001b[0m \u001b[0;34m=\u001b[0m \u001b[0;34m[\u001b[0m\u001b[0;34m]\u001b[0m\u001b[0;34m\u001b[0m\u001b[0;34m\u001b[0m\u001b[0m\n",
            "\u001b[0;31mAttributeError\u001b[0m: 'NoneType' object has no attribute 'find_all'"
          ]
        }
      ]
    },
    {
      "cell_type": "code",
      "source": [
        "# since API of amazon is not responding most of the time. so i am unable to fetch data of all the pages."
      ],
      "metadata": {
        "id": "XB0B-gi2qvNz"
      },
      "execution_count": null,
      "outputs": []
    },
    {
      "cell_type": "code",
      "source": [],
      "metadata": {
        "id": "1UdIIPh7qvLE"
      },
      "execution_count": null,
      "outputs": []
    }
  ]
}